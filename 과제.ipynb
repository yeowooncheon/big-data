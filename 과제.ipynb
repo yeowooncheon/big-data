{
  "nbformat": 4,
  "nbformat_minor": 0,
  "metadata": {
    "colab": {
      "provenance": [],
      "authorship_tag": "ABX9TyPQjRKHGgpHzNYLyl2zBbVp",
      "include_colab_link": true
    },
    "kernelspec": {
      "name": "python3",
      "display_name": "Python 3"
    },
    "language_info": {
      "name": "python"
    }
  },
  "cells": [
    {
      "cell_type": "markdown",
      "metadata": {
        "id": "view-in-github",
        "colab_type": "text"
      },
      "source": [
        "<a href=\"https://colab.research.google.com/github/yeowooncheon/big-data/blob/main/%EA%B3%BC%EC%A0%9C.ipynb\" target=\"_parent\"><img src=\"https://colab.research.google.com/assets/colab-badge.svg\" alt=\"Open In Colab\"/></a>"
      ]
    },
    {
      "cell_type": "code",
      "execution_count": 10,
      "metadata": {
        "id": "ZrxiSaesQ-nH"
      },
      "outputs": [],
      "source": [
        "#3장 연습문제 1번\n",
        "import math\n"
      ]
    },
    {
      "cell_type": "code",
      "source": [
        "#3장 연습문제 1-1번 거리 구하기\n",
        "\n",
        "def distance(x1, y1, x2, y2):\n",
        "    result = math.sqrt( math.pow(x1 - x2, 2) + math.pow(y1 - y2, 2))\n",
        "    return result"
      ],
      "metadata": {
        "id": "Aah4whEiSvuT"
      },
      "execution_count": 11,
      "outputs": []
    },
    {
      "cell_type": "code",
      "source": [
        "P1 = (13,19)\n",
        "P2 = (10,15)\n"
      ],
      "metadata": {
        "id": "VNBa4CyQTDF-"
      },
      "execution_count": 12,
      "outputs": []
    },
    {
      "cell_type": "code",
      "source": [
        "d = distance(P1[0], P1[1], P2[0], P2[1])\n",
        "\n",
        "print(d)\n"
      ],
      "metadata": {
        "colab": {
          "base_uri": "https://localhost:8080/"
        },
        "id": "LLKvWMbVTK8z",
        "outputId": "de6ea0d6-8089-4ab8-cff4-5cbc046898a6"
      },
      "execution_count": 13,
      "outputs": [
        {
          "output_type": "stream",
          "name": "stdout",
          "text": [
            "5.0\n"
          ]
        }
      ]
    },
    {
      "cell_type": "code",
      "source": [
        "def add(a,b):\n",
        "  print(a+b)\n"
      ],
      "metadata": {
        "id": "fobIsBvrTTVK"
      },
      "execution_count": 14,
      "outputs": []
    },
    {
      "cell_type": "code",
      "source": [
        "add(3**2,4**2)"
      ],
      "metadata": {
        "colab": {
          "base_uri": "https://localhost:8080/"
        },
        "id": "bOhJlvyRVC9v",
        "outputId": "b4bb3f5f-3a05-46cb-bbb9-23bee70f46fd"
      },
      "execution_count": 15,
      "outputs": [
        {
          "output_type": "stream",
          "name": "stdout",
          "text": [
            "25\n"
          ]
        }
      ]
    },
    {
      "cell_type": "code",
      "source": [
        "#군집 1 WSS\n",
        "add(5**2,25)"
      ],
      "metadata": {
        "colab": {
          "base_uri": "https://localhost:8080/"
        },
        "id": "2T-1tw8UZAuB",
        "outputId": "c0af37bd-b082-4ea5-c8a8-be672aab1ad0"
      },
      "execution_count": 16,
      "outputs": [
        {
          "output_type": "stream",
          "name": "stdout",
          "text": [
            "50\n"
          ]
        }
      ]
    },
    {
      "cell_type": "code",
      "source": [
        "#군집 2 WSS\n",
        "add(4**2,4**2)"
      ],
      "metadata": {
        "colab": {
          "base_uri": "https://localhost:8080/"
        },
        "id": "EaklUEFka3ec",
        "outputId": "2b6cbf4d-71fc-4a19-e946-e1a3255d7ef0"
      },
      "execution_count": 17,
      "outputs": [
        {
          "output_type": "stream",
          "name": "stdout",
          "text": [
            "32\n"
          ]
        }
      ]
    },
    {
      "cell_type": "code",
      "source": [
        "#TWSS\n",
        "add(50,32)"
      ],
      "metadata": {
        "colab": {
          "base_uri": "https://localhost:8080/"
        },
        "id": "VA0prDNHa7Ax",
        "outputId": "f7b8d496-8fc4-49fc-d781-df9e40621e33"
      },
      "execution_count": 18,
      "outputs": [
        {
          "output_type": "stream",
          "name": "stdout",
          "text": [
            "82\n"
          ]
        }
      ]
    },
    {
      "cell_type": "code",
      "source": [
        "#1-3번 엘보우 포인트가 4 지점 이니까 군집의 수는 4개로 정하면 됩니다.\n",
        "\n"
      ],
      "metadata": {
        "id": "t-8E9A7IbMEh"
      },
      "execution_count": 19,
      "outputs": []
    },
    {
      "cell_type": "code",
      "source": [
        "# 2-1 연습문제\n"
      ],
      "metadata": {
        "id": "IjXvFz7Adlba"
      },
      "execution_count": 20,
      "outputs": []
    },
    {
      "cell_type": "code",
      "source": [
        "from sklearn.cluster import KMeans\n",
        "from sklearn.preprocessing import StandardScaler\n",
        "import pandas as pd\n",
        "import numpy as np\n",
        "import matplotlib.pyplot as plt"
      ],
      "metadata": {
        "id": "O8mz7JYAgohg"
      },
      "execution_count": 21,
      "outputs": []
    },
    {
      "cell_type": "code",
      "source": [
        "data = np.array([[1, 4], [4, 2], \n",
        "                [3, 7], [6, 1],\n",
        "                [2, 5]]) \n",
        "data\n"
      ],
      "metadata": {
        "colab": {
          "base_uri": "https://localhost:8080/"
        },
        "id": "E8Y2bwh0gvAX",
        "outputId": "f909b4b6-3771-47dc-9727-f1aadb23f69f"
      },
      "execution_count": 22,
      "outputs": [
        {
          "output_type": "execute_result",
          "data": {
            "text/plain": [
              "array([[1, 4],\n",
              "       [4, 2],\n",
              "       [3, 7],\n",
              "       [6, 1],\n",
              "       [2, 5]])"
            ]
          },
          "metadata": {},
          "execution_count": 22
        }
      ]
    },
    {
      "cell_type": "code",
      "source": [
        "plt.scatter(data[:,0], data[:,1])\n",
        "plt.xlabel('X')\n",
        "plt.ylabel('Y')\n",
        "plt.xlim(0, 10)\n",
        "plt.ylim(0, 10)\n",
        "rows, columns = data.shape\n",
        "for i in range(rows):\n",
        "  plt.annotate(i+1, (data[i,0], data[i,1]))"
      ],
      "metadata": {
        "colab": {
          "base_uri": "https://localhost:8080/",
          "height": 455
        },
        "id": "NWraHQ9bgyL8",
        "outputId": "93ec12a4-342c-4712-b873-395f400faacf"
      },
      "execution_count": 23,
      "outputs": [
        {
          "output_type": "display_data",
          "data": {
            "text/plain": [
              "<Figure size 640x480 with 1 Axes>"
            ],
            "image/png": "[encoded data removed]"
          },
          "metadata": {}
        }
      ]
    },
    {
      "cell_type": "code",
      "source": [
        "#편차 표준화\n",
        "scaler = StandardScaler()\n",
        "scaler.fit(data) \n",
        "data_std = scaler.transform(data)\n",
        "print(data_std)"
      ],
      "metadata": {
        "colab": {
          "base_uri": "https://localhost:8080/"
        },
        "id": "HwPgr9-fhZKO",
        "outputId": "2639ac6c-fdf1-45be-8892-8b81ecd351f2"
      },
      "execution_count": 24,
      "outputs": [
        {
          "output_type": "stream",
          "name": "stdout",
          "text": [
            "[[-1.27872403  0.09365858]\n",
            " [ 0.46499055 -0.84292723]\n",
            " [-0.11624764  1.4985373 ]\n",
            " [ 1.62746694 -1.31122014]\n",
            " [-0.69748583  0.56195149]]\n"
          ]
        }
      ]
    },
    {
      "cell_type": "code",
      "source": [
        "# 표준화 데이터의 X, Y의 산포도  \n",
        "plt.scatter(data_std[:,0], data_std[:,1])\n",
        "plt.xlabel('X')\n",
        "plt.ylabel('Y')\n",
        "plt.xlim(-2, 2)\n",
        "plt.ylim(-2, 2)\n",
        "\n",
        "# 행과 열의 수\n",
        "rows, columns = data_std.shape\n",
        "# 데이터 라벨 \n",
        "for i in range(rows):\n",
        "  plt.annotate(i+1, (data_std[i,0], data_std[i,1]))  "
      ],
      "metadata": {
        "colab": {
          "base_uri": "https://localhost:8080/",
          "height": 455
        },
        "id": "3WJgA5XUAmbZ",
        "outputId": "52c38081-f310-4ca8-bf70-afc55ac4c36a"
      },
      "execution_count": 25,
      "outputs": [
        {
          "output_type": "display_data",
          "data": {
            "text/plain": [
              "<Figure size 640x480 with 1 Axes>"
            ],
            "image/png": "[encoded data removed]"
          },
          "metadata": {}
        }
      ]
    },
    {
      "cell_type": "code",
      "source": [
        "kmeans = KMeans(n_clusters=2)\n",
        "kmeans.fit(data_std) \n",
        "#군집 할당\n",
        "print(kmeans.labels_)\n",
        "#군집 중심\n",
        "print(kmeans.cluster_centers_)"
      ],
      "metadata": {
        "colab": {
          "base_uri": "https://localhost:8080/"
        },
        "id": "SVAC44O1hwaa",
        "outputId": "bbca0a72-9d55-4ace-c0d3-348b5292e780"
      },
      "execution_count": 26,
      "outputs": [
        {
          "output_type": "stream",
          "name": "stdout",
          "text": [
            "[0 1 0 1 0]\n",
            "[[-0.69748583  0.71804912]\n",
            " [ 1.04622875 -1.07707368]]\n"
          ]
        },
        {
          "output_type": "stream",
          "name": "stderr",
          "text": [
            "/usr/local/lib/python3.9/dist-packages/sklearn/cluster/_kmeans.py:870: FutureWarning: The default value of `n_init` will change from 10 to 'auto' in 1.4. Set the value of `n_init` explicitly to suppress the warning\n",
            "  warnings.warn(\n"
          ]
        }
      ]
    },
    {
      "cell_type": "code",
      "source": [
        "# 결과 분석\n",
        "# 군집 데이터 분포 \n",
        "plt.scatter(data_std[:,0], data_std[:,1], c=kmeans.labels_, s=50)\n",
        "# plt.title('X와 Y에 대한 분포: 표준화')\n",
        "plt.xlabel('X')\n",
        "plt.ylabel('Y')\n",
        "plt.xlim(-2, 2)\n",
        "plt.ylim(-2, 2)\n",
        "\n",
        "# 행과 열의 수\n",
        "rows, columns = data_std.shape\n",
        "\n",
        "# 데이터 라벨\n",
        "for i in range(rows):\n",
        "  plt.annotate(i+1, (data_std[i,0], data_std[i,1]))  \n",
        "\n",
        "# 군집 중심 표시 \n",
        "plt.scatter(kmeans.cluster_centers_[:, 0], \n",
        "            kmeans.cluster_centers_[:, 1], \n",
        "            c='red', s=200, alpha=0.5);\n",
        "# 군집 라벨 \n",
        "for k in range(columns):\n",
        "  plt.annotate(k, \n",
        "              (kmeans.cluster_centers_[k, 0], kmeans.cluster_centers_[k, 1]))"
      ],
      "metadata": {
        "colab": {
          "base_uri": "https://localhost:8080/",
          "height": 455
        },
        "id": "ahpfhvXBAvzx",
        "outputId": "418409dd-e12b-49e6-84fe-b2eea6f3fb71"
      },
      "execution_count": 53,
      "outputs": [
        {
          "output_type": "display_data",
          "data": {
            "text/plain": [
              "<Figure size 640x480 with 1 Axes>"
            ],
            "image/png": "[encoded data removed]"
          },
          "metadata": {}
        }
      ]
    },
    {
      "cell_type": "code",
      "source": [
        "TWSS = {}\n",
        "for k in range(1, 6):  \n",
        "  model = KMeans(n_clusters=k)\n",
        "  model.fit(data_std) \n",
        "  TWSS[k] = model.inertia_\n",
        "plt.plot(list(TWSS.keys()), list(TWSS.values()), marker='o')\n",
        "plt.xlabel(\"Number of Clusters(K)\")\n",
        "plt.ylabel(\"TWSS\")\n",
        "plt.show()\n"
      ],
      "metadata": {
        "colab": {
          "base_uri": "https://localhost:8080/",
          "height": 651
        },
        "id": "8dRaCpg4iphA",
        "outputId": "bec98ff3-29da-4532-947e-90e60672bae0"
      },
      "execution_count": 27,
      "outputs": [
        {
          "output_type": "stream",
          "name": "stderr",
          "text": [
            "/usr/local/lib/python3.9/dist-packages/sklearn/cluster/_kmeans.py:870: FutureWarning: The default value of `n_init` will change from 10 to 'auto' in 1.4. Set the value of `n_init` explicitly to suppress the warning\n",
            "  warnings.warn(\n",
            "/usr/local/lib/python3.9/dist-packages/sklearn/cluster/_kmeans.py:870: FutureWarning: The default value of `n_init` will change from 10 to 'auto' in 1.4. Set the value of `n_init` explicitly to suppress the warning\n",
            "  warnings.warn(\n",
            "/usr/local/lib/python3.9/dist-packages/sklearn/cluster/_kmeans.py:870: FutureWarning: The default value of `n_init` will change from 10 to 'auto' in 1.4. Set the value of `n_init` explicitly to suppress the warning\n",
            "  warnings.warn(\n",
            "/usr/local/lib/python3.9/dist-packages/sklearn/cluster/_kmeans.py:870: FutureWarning: The default value of `n_init` will change from 10 to 'auto' in 1.4. Set the value of `n_init` explicitly to suppress the warning\n",
            "  warnings.warn(\n",
            "/usr/local/lib/python3.9/dist-packages/sklearn/cluster/_kmeans.py:870: FutureWarning: The default value of `n_init` will change from 10 to 'auto' in 1.4. Set the value of `n_init` explicitly to suppress the warning\n",
            "  warnings.warn(\n"
          ]
        },
        {
          "output_type": "display_data",
          "data": {
            "text/plain": [
              "<Figure size 640x480 with 1 Axes>"
            ],
            "image/png": "[encoded data removed]"
          },
          "metadata": {}
        }
      ]
    },
    {
      "cell_type": "code",
      "source": [
        "#군집 중심과의 거리"
      ],
      "metadata": {
        "id": "Z6dRsgWBB-sU"
      },
      "execution_count": 54,
      "outputs": []
    },
    {
      "cell_type": "code",
      "source": [
        "P1 = (-0.69748583, 0.71804912)\n",
        "P2 = (-1.27872403,0.09365858)\n"
      ],
      "metadata": {
        "id": "aHxeW3rHB_Fu"
      },
      "execution_count": 55,
      "outputs": []
    },
    {
      "cell_type": "code",
      "source": [
        "d = distance(P1[0], P1[1], P2[0], P2[1])\n",
        "\n",
        "print(d)\n"
      ],
      "metadata": {
        "colab": {
          "base_uri": "https://localhost:8080/"
        },
        "outputId": "25b6b6ae-bd22-4c0f-9e6c-c9c2f2daa2a8",
        "id": "41tez-Y7B_Fv"
      },
      "execution_count": 56,
      "outputs": [
        {
          "output_type": "stream",
          "name": "stdout",
          "text": [
            "0.8530541551277572\n"
          ]
        }
      ]
    },
    {
      "cell_type": "code",
      "source": [
        "P1 = (-0.69748583, 0.71804912)\n",
        "P3 = (0.46499055,-0.84292723)\n"
      ],
      "metadata": {
        "id": "vGH5Vk5yCymW"
      },
      "execution_count": 57,
      "outputs": []
    },
    {
      "cell_type": "code",
      "source": [
        "d = distance(P1[0], P1[1], P3[0], P3[1])\n",
        "\n",
        "print(d)"
      ],
      "metadata": {
        "colab": {
          "base_uri": "https://localhost:8080/"
        },
        "outputId": "0f1ea00b-4926-4246-9772-134d529ab185",
        "id": "mmXHvLKfCymX"
      },
      "execution_count": 59,
      "outputs": [
        {
          "output_type": "stream",
          "name": "stdout",
          "text": [
            "1.9462781145862034\n"
          ]
        }
      ]
    },
    {
      "cell_type": "code",
      "source": [
        "P1 = (-0.69748583, 0.71804912)\n",
        "P4 = (-0.11624764,1.4985373)\n"
      ],
      "metadata": {
        "id": "AalLdKMkDrk0"
      },
      "execution_count": 61,
      "outputs": []
    },
    {
      "cell_type": "code",
      "source": [
        "d = distance(P1[0], P1[1], P4[0], P4[1])\n",
        "\n",
        "print(d)"
      ],
      "metadata": {
        "colab": {
          "base_uri": "https://localhost:8080/"
        },
        "outputId": "f1a2abd2-a0c8-4209-f5fd-9a99356df599",
        "id": "_vLWzdtxDrk1"
      },
      "execution_count": 62,
      "outputs": [
        {
          "output_type": "stream",
          "name": "stdout",
          "text": [
            "0.9731390613032592\n"
          ]
        }
      ]
    },
    {
      "cell_type": "code",
      "source": [
        "P1 = (-0.69748583, 0.71804912)\n",
        "P5 = (1.62746694,-1.31122014)\n"
      ],
      "metadata": {
        "id": "ClUBj2gQD6KF"
      },
      "execution_count": 63,
      "outputs": []
    },
    {
      "cell_type": "code",
      "source": [
        "d = distance(P1[0], P1[1], P5[0], P5[1])\n",
        "\n",
        "print(d)"
      ],
      "metadata": {
        "colab": {
          "base_uri": "https://localhost:8080/"
        },
        "outputId": "3e11b8ae-b6d8-4fa9-df15-17b550b15209",
        "id": "yWOWk2HPD6KG"
      },
      "execution_count": 64,
      "outputs": [
        {
          "output_type": "stream",
          "name": "stdout",
          "text": [
            "3.085990782927198\n"
          ]
        }
      ]
    },
    {
      "cell_type": "code",
      "source": [
        "P1 = (-0.69748583, 0.71804912)\n",
        "P6 = (-0.69748583,0.56195149)\n"
      ],
      "metadata": {
        "id": "uAyRp6CfEIur"
      },
      "execution_count": 65,
      "outputs": []
    },
    {
      "cell_type": "code",
      "source": [
        "d = distance(P1[0], P1[1], P6[0], P6[1])\n",
        "\n",
        "print(d)"
      ],
      "metadata": {
        "colab": {
          "base_uri": "https://localhost:8080/"
        },
        "outputId": "f7c99a8f-43f1-4b26-e57f-d22e296f5aa7",
        "id": "N4L8Hc5SEIur"
      },
      "execution_count": 66,
      "outputs": [
        {
          "output_type": "stream",
          "name": "stdout",
          "text": [
            "0.15609763\n"
          ]
        }
      ]
    },
    {
      "cell_type": "code",
      "source": [
        "P1_1 = (1.04622875,-1.07707368)\n",
        "P7 = (-1.27872403,0.09365858)\n"
      ],
      "metadata": {
        "id": "F4tbb-ByEZVV"
      },
      "execution_count": 67,
      "outputs": []
    },
    {
      "cell_type": "code",
      "source": [
        "d = distance(P1_1[0], P1_1[1], P7[0], P7[1])\n",
        "\n",
        "print(d)"
      ],
      "metadata": {
        "colab": {
          "base_uri": "https://localhost:8080/"
        },
        "outputId": "ff35d5d5-3001-4f59-e8e6-9254caaef7e3",
        "id": "4TCbskYqEZVV"
      },
      "execution_count": 68,
      "outputs": [
        {
          "output_type": "stream",
          "name": "stdout",
          "text": [
            "2.603078841263637\n"
          ]
        }
      ]
    },
    {
      "cell_type": "code",
      "source": [
        "P1_1 = (1.04622875,-1.07707368)\n",
        "P8 = ( 0.46499055,-0.84292723)\n"
      ],
      "metadata": {
        "id": "mApt4k1PE304"
      },
      "execution_count": 69,
      "outputs": []
    },
    {
      "cell_type": "code",
      "source": [
        "d = distance(P1_1[0], P1_1[1], P8[0], P8[1])\n",
        "\n",
        "print(d)"
      ],
      "metadata": {
        "colab": {
          "base_uri": "https://localhost:8080/"
        },
        "outputId": "7d8051b8-cdc4-4552-8be5-3f3ab772edac",
        "id": "fniR8zFyE305"
      },
      "execution_count": 70,
      "outputs": [
        {
          "output_type": "stream",
          "name": "stdout",
          "text": [
            "0.6266278043518677\n"
          ]
        }
      ]
    },
    {
      "cell_type": "code",
      "source": [
        "P1_1 = (1.04622875,-1.07707368)\n",
        "P9 = (-0.11624764,1.4985373)\n"
      ],
      "metadata": {
        "id": "HkiC8cyLFETs"
      },
      "execution_count": 72,
      "outputs": []
    },
    {
      "cell_type": "code",
      "source": [
        "d = distance(P1_1[0], P1_1[1], P9[0], P9[1])\n",
        "\n",
        "print(d)"
      ],
      "metadata": {
        "colab": {
          "base_uri": "https://localhost:8080/"
        },
        "outputId": "465257ee-4d9d-4d10-ca91-3261a98fbd41",
        "id": "-sB_vWvkFETt"
      },
      "execution_count": 73,
      "outputs": [
        {
          "output_type": "stream",
          "name": "stdout",
          "text": [
            "2.8257960431715508\n"
          ]
        }
      ]
    },
    {
      "cell_type": "code",
      "source": [
        "P1_1 = (1.04622875,-1.07707368)\n",
        "P10 = ( 1.62746694,-1.31122014)\n"
      ],
      "metadata": {
        "id": "3P_kCygzFUfT"
      },
      "execution_count": 74,
      "outputs": []
    },
    {
      "cell_type": "code",
      "source": [
        "d = distance(P1_1[0], P1_1[1], P10[0], P10[1])\n",
        "\n",
        "print(d)"
      ],
      "metadata": {
        "colab": {
          "base_uri": "https://localhost:8080/"
        },
        "outputId": "8de7b14d-1330-4df3-e014-1dd0edce5b04",
        "id": "Ia793W91FUfU"
      },
      "execution_count": 75,
      "outputs": [
        {
          "output_type": "stream",
          "name": "stdout",
          "text": [
            "0.626627798812826\n"
          ]
        }
      ]
    },
    {
      "cell_type": "code",
      "source": [
        "P1_1 = (1.04622875,-1.07707368)\n",
        "P11 = ( -0.69748583,0.56195149)"
      ],
      "metadata": {
        "id": "DHcAprLMFgNk"
      },
      "execution_count": 76,
      "outputs": []
    },
    {
      "cell_type": "code",
      "source": [
        "d = distance(P1_1[0], P1_1[1], P11[0], P11[1])\n",
        "\n",
        "print(d)"
      ],
      "metadata": {
        "colab": {
          "base_uri": "https://localhost:8080/"
        },
        "outputId": "ce57f7dc-fce9-4ec6-878f-5a65fb1b9ac5",
        "id": "oJdmosSKFgNk"
      },
      "execution_count": 77,
      "outputs": [
        {
          "output_type": "stream",
          "name": "stdout",
          "text": [
            "2.3931034337023767\n"
          ]
        }
      ]
    },
    {
      "cell_type": "code",
      "source": [
        "import pandas as pd\n",
        "col = [0, 0]\n",
        "ind = [0, 0]\n",
        "con = [[0, 0], [0, 0]]\n",
        "df = pd.DataFrame(con, columns=col, index=ind)\n",
        "\n",
        "     \n",
        "\n",
        "def df_maker(col_num, ind_num, fill):\n",
        "    col = []\n",
        "    ind = []\n",
        "    con = []\n",
        "    for i in range(0,col_num):\n",
        "        col.append(fill)\n",
        "    for i in range(0,ind_num):\n",
        "        ind.append(fill)\n",
        "    for i in range(0,ind_num):\n",
        "        con.append(col)\n",
        "    return pd.DataFrame(con, columns=col, index=ind)\n",
        "\n",
        "     \n",
        "\n",
        "df = df_maker(5,5,0)  # 3X3 데이터 프레임 생성 0으로 채움\n",
        "col = [\"X\",\"Y\",\"거리1\",\"거리2\",\"군집할당\",]\n",
        "ind = [1,2,3,4,5]\n",
        "df.columns = col  # 컬럼 col 리스트로 덮어씌움\n",
        "df.index = ind    # 인덱스 ind 리스트로 덮어씌움\n",
        "     \n",
        "\n",
        "print(df)"
      ],
      "metadata": {
        "colab": {
          "base_uri": "https://localhost:8080/"
        },
        "id": "tVw9UPYJFsuX",
        "outputId": "f7586e2a-7760-437c-b6c3-2844bfca6fbc"
      },
      "execution_count": 78,
      "outputs": [
        {
          "output_type": "stream",
          "name": "stdout",
          "text": [
            "   X  Y  거리1  거리2  군집할당\n",
            "1  0  0    0    0     0\n",
            "2  0  0    0    0     0\n",
            "3  0  0    0    0     0\n",
            "4  0  0    0    0     0\n",
            "5  0  0    0    0     0\n"
          ]
        }
      ]
    },
    {
      "cell_type": "code",
      "source": [
        "df[\"X\"] = [-1.27872403,0.46499055,-0.11624764,1.62746694,-0.69748583]\n",
        "df[\"Y\"] = [0.09365858,-0.84292723, 1.4985373,-1.31122014,  0.56195149]\n",
        "df[\"거리1\"] = [0.8530541551277572,\n",
        "1.9462781145862034,\n",
        "0.9731390613032592,\n",
        "3.085990782927198,\n",
        "0.15609763]\n",
        "df[\"거리2\"] = [2.603078841263637,\n",
        "0.6266278043518677,\n",
        "2.8257960431715508,\n",
        "0.626627798812826,\n",
        "2.3931034337023767]\n",
        "df[\"군집할당\"]=[0, 1 ,0 ,1, 0]"
      ],
      "metadata": {
        "id": "iLrx3e9RGWSF"
      },
      "execution_count": 79,
      "outputs": []
    },
    {
      "cell_type": "code",
      "source": [
        "#2.1\n",
        "print(df)"
      ],
      "metadata": {
        "colab": {
          "base_uri": "https://localhost:8080/"
        },
        "id": "uP10UR-YGbSM",
        "outputId": "1c4bb14e-c594-4578-9e1f-9415b9c04fec"
      },
      "execution_count": 81,
      "outputs": [
        {
          "output_type": "stream",
          "name": "stdout",
          "text": [
            "          X         Y       거리1       거리2  군집할당\n",
            "1 -1.278724  0.093659  0.853054  2.603079     0\n",
            "2  0.464991 -0.842927  1.946278  0.626628     1\n",
            "3 -0.116248  1.498537  0.973139  2.825796     0\n",
            "4  1.627467 -1.311220  3.085991  0.626628     1\n",
            "5 -0.697486  0.561951  0.156098  2.393103     0\n"
          ]
        }
      ]
    },
    {
      "cell_type": "code",
      "source": [
        "#WSS 군집 1\n",
        "def add(a,b,c):\n",
        "  print(a+b+c)\n",
        "add(0.853054**2,0.973139**2,0.156098**2)"
      ],
      "metadata": {
        "colab": {
          "base_uri": "https://localhost:8080/"
        },
        "id": "UP39l4c1Gjsi",
        "outputId": "45e82c3e-76d4-41e1-eb9f-0ddac599e1cf"
      },
      "execution_count": 83,
      "outputs": [
        {
          "output_type": "stream",
          "name": "stdout",
          "text": [
            "1.699067225841\n"
          ]
        }
      ]
    },
    {
      "cell_type": "code",
      "source": [
        "#WSS 군집 2\n",
        "add( 0.626628**2,0.626628**2,0)"
      ],
      "metadata": {
        "colab": {
          "base_uri": "https://localhost:8080/"
        },
        "id": "7pZj3TIxHri1",
        "outputId": "c5f24aa2-fde1-4a12-d73f-bd66176daa30"
      },
      "execution_count": 87,
      "outputs": [
        {
          "output_type": "stream",
          "name": "stdout",
          "text": [
            "0.7853253007679999\n"
          ]
        }
      ]
    },
    {
      "cell_type": "code",
      "source": [
        "#TWSS\n",
        "add(1.699067225841,0.7853253007679999,0)"
      ],
      "metadata": {
        "colab": {
          "base_uri": "https://localhost:8080/"
        },
        "id": "13mRaxACH--U",
        "outputId": "be0e7182-7d56-4476-a457-241abea83812"
      },
      "execution_count": 89,
      "outputs": [
        {
          "output_type": "stream",
          "name": "stdout",
          "text": [
            "2.4843925266089997\n"
          ]
        }
      ]
    },
    {
      "cell_type": "code",
      "source": [
        "#5장 연습문제\n",
        "1.1 #유클리드 거리\n",
        "import numpy as np\n",
        "a = np.array((1, 4))\n",
        "b = np.array((4, 2))\n",
        "\n",
        "answer = np.sqrt(np.sum(np.square(a-b)))\n",
        "\n",
        "print(answer)\n"
      ],
      "metadata": {
        "id": "KUvVm26Kjm6f",
        "colab": {
          "base_uri": "https://localhost:8080/"
        },
        "outputId": "1935b35b-0929-48a5-8e80-662e07b26626"
      },
      "execution_count": 28,
      "outputs": [
        {
          "output_type": "stream",
          "name": "stdout",
          "text": [
            "3.605551275463989\n"
          ]
        }
      ]
    },
    {
      "cell_type": "code",
      "source": [
        "1.2 #맨하탄거리\n",
        "def manhattan_distance(a, b):\n",
        "    distance = 0\n",
        "    for i in range(len(a)):\n",
        "        distance += abs(a[i] - b[i])\n",
        "    return distance\n",
        "\n",
        "print(manhattan_distance(a=[1,4], b=[4,2]))"
      ],
      "metadata": {
        "colab": {
          "base_uri": "https://localhost:8080/"
        },
        "id": "O1atXeTuGLzh",
        "outputId": "09891636-26a3-436e-ab6b-a098eb649a6d"
      },
      "execution_count": 29,
      "outputs": [
        {
          "output_type": "stream",
          "name": "stdout",
          "text": [
            "5\n"
          ]
        }
      ]
    },
    {
      "cell_type": "code",
      "source": [
        "#1.3  #차수가 1일때 맨하탄 거리와 같다\n",
        "#1.4  #차수가 2일때 유클리드 거리와 같다"
      ],
      "metadata": {
        "id": "l5XMfxtRM7hz"
      },
      "execution_count": 30,
      "outputs": []
    },
    {
      "cell_type": "code",
      "source": [
        "1.5 #코사인 유사도\n",
        "import numpy as np\n",
        "from numpy import dot\n",
        "from numpy.linalg import norm\n",
        "\n",
        "def cos_sim(A, B):\n",
        "  return dot(A, B)/(norm(A)*norm(B))\n",
        "\n",
        "doc1 = np.array([1,4])\n",
        "doc2 = np.array([4,2])"
      ],
      "metadata": {
        "id": "lUHBT8A3GPE0"
      },
      "execution_count": 31,
      "outputs": []
    },
    {
      "cell_type": "code",
      "source": [
        "print('A과 B의 유사도 :',cos_sim(doc1, doc2))"
      ],
      "metadata": {
        "colab": {
          "base_uri": "https://localhost:8080/"
        },
        "id": "-Oowx3OcJ5NF",
        "outputId": "c15db029-d610-45e5-a218-2176039f0f9a"
      },
      "execution_count": 32,
      "outputs": [
        {
          "output_type": "stream",
          "name": "stdout",
          "text": [
            "A과 B의 유사도 : 0.6507913734559685\n"
          ]
        }
      ]
    },
    {
      "cell_type": "code",
      "source": [
        "#분류 2번\n",
        "from sklearn.neighbors import KNeighborsClassifier\n",
        "from sklearn.preprocessing import StandardScaler\n",
        "import numpy as np\n",
        "import matplotlib.pyplot as plt "
      ],
      "metadata": {
        "id": "5V5fcaMnJ9LM"
      },
      "execution_count": 33,
      "outputs": []
    },
    {
      "cell_type": "code",
      "source": [
        "X_train = np.array([[10, 8],\n",
        "           [20, 4],\n",
        "           [20, 6],\n",
        "           [40, 4],\n",
        "           [50, 8]])\n",
        "y_train = np.array([0, 0, 0, 1, 1])"
      ],
      "metadata": {
        "id": "2GRh0tg8KGUx"
      },
      "execution_count": 34,
      "outputs": []
    },
    {
      "cell_type": "code",
      "source": [
        "X_test = np.array([[30, 6]])"
      ],
      "metadata": {
        "id": "pH7W9SHZKJ43"
      },
      "execution_count": 35,
      "outputs": []
    },
    {
      "cell_type": "code",
      "source": [
        "plt.scatter(X_train[:, 0],  X_train[:, 1], c=y_train) \n",
        "plt.scatter(X_test[:, 0],  X_test[:, 1], c='red', marker = 'D', s=100)\n",
        "plt.xlabel('x1')\n",
        "plt.ylabel('x2')\n",
        "plt.show() "
      ],
      "metadata": {
        "colab": {
          "base_uri": "https://localhost:8080/",
          "height": 449
        },
        "id": "t-NFHVT_KLpX",
        "outputId": "f4290e24-5b0a-43f1-efe8-17817cfb1795"
      },
      "execution_count": 36,
      "outputs": [
        {
          "output_type": "display_data",
          "data": {
            "text/plain": [
              "<Figure size 640x480 with 1 Axes>"
            ],
            "image/png": "[encoded data removed]"
          },
          "metadata": {}
        }
      ]
    },
    {
      "cell_type": "code",
      "source": [
        "scalerX = StandardScaler()\n",
        "scalerX.fit(X_train)\n",
        "X_train_std = scalerX.transform(X_train)\n",
        "print(X_train_std)"
      ],
      "metadata": {
        "colab": {
          "base_uri": "https://localhost:8080/"
        },
        "id": "_kRtxBNSKNfN",
        "outputId": "b4af0464-3e64-4107-abfa-92f9c5052482"
      },
      "execution_count": 37,
      "outputs": [
        {
          "output_type": "stream",
          "name": "stdout",
          "text": [
            "[[-1.22474487  1.11803399]\n",
            " [-0.54433105 -1.11803399]\n",
            " [-0.54433105  0.        ]\n",
            " [ 0.81649658 -1.11803399]\n",
            " [ 1.4969104   1.11803399]]\n"
          ]
        }
      ]
    },
    {
      "cell_type": "code",
      "source": [
        "X_test_std = scalerX.transform(X_test)\n",
        "print(X_test_std)"
      ],
      "metadata": {
        "colab": {
          "base_uri": "https://localhost:8080/"
        },
        "id": "0-i5DkTqKPJY",
        "outputId": "0978e026-50aa-4d64-b796-69fc02686f8a"
      },
      "execution_count": 38,
      "outputs": [
        {
          "output_type": "stream",
          "name": "stdout",
          "text": [
            "[[0.13608276 0.        ]]\n"
          ]
        }
      ]
    },
    {
      "cell_type": "code",
      "source": [
        "knn = KNeighborsClassifier(n_neighbors = 3, metric='euclidean')\n",
        "knn.fit(X_train_std, y_train)"
      ],
      "metadata": {
        "colab": {
          "base_uri": "https://localhost:8080/",
          "height": 74
        },
        "id": "SJmJmNH6KRzs",
        "outputId": "14580992-a5ec-4e46-b9b3-7bb65caf3b49"
      },
      "execution_count": 39,
      "outputs": [
        {
          "output_type": "execute_result",
          "data": {
            "text/plain": [
              "KNeighborsClassifier(metric='euclidean', n_neighbors=3)"
            ],
            "text/html": [
              "<style>#sk-container-id-1 {color: black;background-color: white;}#sk-container-id-1 pre{padding: 0;}#sk-container-id-1 div.sk-toggleable {background-color: white;}#sk-container-id-1 label.sk-toggleable__label {cursor: pointer;display: block;width: 100%;margin-bottom: 0;padding: 0.3em;box-sizing: border-box;text-align: center;}#sk-container-id-1 label.sk-toggleable__label-arrow:before {content: \"▸\";float: left;margin-right: 0.25em;color: #696969;}#sk-container-id-1 label.sk-toggleable__label-arrow:hover:before {color: black;}#sk-container-id-1 div.sk-estimator:hover label.sk-toggleable__label-arrow:before {color: black;}#sk-container-id-1 div.sk-toggleable__content {max-height: 0;max-width: 0;overflow: hidden;text-align: left;background-color: #f0f8ff;}#sk-container-id-1 div.sk-toggleable__content pre {margin: 0.2em;color: black;border-radius: 0.25em;background-color: #f0f8ff;}#sk-container-id-1 input.sk-toggleable__control:checked~div.sk-toggleable__content {max-height: 200px;max-width: 100%;overflow: auto;}#sk-container-id-1 input.sk-toggleable__control:checked~label.sk-toggleable__label-arrow:before {content: \"▾\";}#sk-container-id-1 div.sk-estimator input.sk-toggleable__control:checked~label.sk-toggleable__label {background-color: #d4ebff;}#sk-container-id-1 div.sk-label input.sk-toggleable__control:checked~label.sk-toggleable__label {background-color: #d4ebff;}#sk-container-id-1 input.sk-hidden--visually {border: 0;clip: rect(1px 1px 1px 1px);clip: rect(1px, 1px, 1px, 1px);height: 1px;margin: -1px;overflow: hidden;padding: 0;position: absolute;width: 1px;}#sk-container-id-1 div.sk-estimator {font-family: monospace;background-color: #f0f8ff;border: 1px dotted black;border-radius: 0.25em;box-sizing: border-box;margin-bottom: 0.5em;}#sk-container-id-1 div.sk-estimator:hover {background-color: #d4ebff;}#sk-container-id-1 div.sk-parallel-item::after {content: \"\";width: 100%;border-bottom: 1px solid gray;flex-grow: 1;}#sk-container-id-1 div.sk-label:hover label.sk-toggleable__label {background-color: #d4ebff;}#sk-container-id-1 div.sk-serial::before {content: \"\";position: absolute;border-left: 1px solid gray;box-sizing: border-box;top: 0;bottom: 0;left: 50%;z-index: 0;}#sk-container-id-1 div.sk-serial {display: flex;flex-direction: column;align-items: center;background-color: white;padding-right: 0.2em;padding-left: 0.2em;position: relative;}#sk-container-id-1 div.sk-item {position: relative;z-index: 1;}#sk-container-id-1 div.sk-parallel {display: flex;align-items: stretch;justify-content: center;background-color: white;position: relative;}#sk-container-id-1 div.sk-item::before, #sk-container-id-1 div.sk-parallel-item::before {content: \"\";position: absolute;border-left: 1px solid gray;box-sizing: border-box;top: 0;bottom: 0;left: 50%;z-index: -1;}#sk-container-id-1 div.sk-parallel-item {display: flex;flex-direction: column;z-index: 1;position: relative;background-color: white;}#sk-container-id-1 div.sk-parallel-item:first-child::after {align-self: flex-end;width: 50%;}#sk-container-id-1 div.sk-parallel-item:last-child::after {align-self: flex-start;width: 50%;}#sk-container-id-1 div.sk-parallel-item:only-child::after {width: 0;}#sk-container-id-1 div.sk-dashed-wrapped {border: 1px dashed gray;margin: 0 0.4em 0.5em 0.4em;box-sizing: border-box;padding-bottom: 0.4em;background-color: white;}#sk-container-id-1 div.sk-label label {font-family: monospace;font-weight: bold;display: inline-block;line-height: 1.2em;}#sk-container-id-1 div.sk-label-container {text-align: center;}#sk-container-id-1 div.sk-container {/* jupyter's `normalize.less` sets `[hidden] { display: none; }` but bootstrap.min.css set `[hidden] { display: none !important; }` so we also need the `!important` here to be able to override the default hidden behavior on the sphinx rendered scikit-learn.org. See: https://github.com/scikit-learn/scikit-learn/issues/21755 */display: inline-block !important;position: relative;}#sk-container-id-1 div.sk-text-repr-fallback {display: none;}</style><div id=\"sk-container-id-1\" class=\"sk-top-container\"><div class=\"sk-text-repr-fallback\"><pre>KNeighborsClassifier(metric=&#x27;euclidean&#x27;, n_neighbors=3)</pre><b>In a Jupyter environment, please rerun this cell to show the HTML representation or trust the notebook. <br />On GitHub, the HTML representation is unable to render, please try loading this page with nbviewer.org.</b></div><div class=\"sk-container\" hidden><div class=\"sk-item\"><div class=\"sk-estimator sk-toggleable\"><input class=\"sk-toggleable__control sk-hidden--visually\" id=\"sk-estimator-id-1\" type=\"checkbox\" checked><label for=\"sk-estimator-id-1\" class=\"sk-toggleable__label sk-toggleable__label-arrow\">KNeighborsClassifier</label><div class=\"sk-toggleable__content\"><pre>KNeighborsClassifier(metric=&#x27;euclidean&#x27;, n_neighbors=3)</pre></div></div></div></div></div>"
            ]
          },
          "metadata": {},
          "execution_count": 39
        }
      ]
    },
    {
      "cell_type": "code",
      "source": [
        "pred = knn.predict(X_test_std)\n",
        "print(pred)"
      ],
      "metadata": {
        "colab": {
          "base_uri": "https://localhost:8080/"
        },
        "id": "RuKO3sllKTXP",
        "outputId": "d537bd54-636f-4119-d330-faa0113c0baf"
      },
      "execution_count": 40,
      "outputs": [
        {
          "output_type": "stream",
          "name": "stdout",
          "text": [
            "[0]\n"
          ]
        }
      ]
    },
    {
      "cell_type": "code",
      "source": [
        "knn.predict_proba(X_test_std)"
      ],
      "metadata": {
        "colab": {
          "base_uri": "https://localhost:8080/"
        },
        "id": "mb5wDyoMKVIm",
        "outputId": "0f1479f8-eb3c-47f3-bf19-537c8664a212"
      },
      "execution_count": 41,
      "outputs": [
        {
          "output_type": "execute_result",
          "data": {
            "text/plain": [
              "array([[0.66666667, 0.33333333]])"
            ]
          },
          "metadata": {},
          "execution_count": 41
        }
      ]
    },
    {
      "cell_type": "code",
      "source": [
        "dist, index = knn.kneighbors(X_test_std)\n",
        "print(dist)\n",
        "print(index) "
      ],
      "metadata": {
        "colab": {
          "base_uri": "https://localhost:8080/"
        },
        "id": "RSSeTBuIKWfl",
        "outputId": "d7a08c2e-feec-4ac2-b840-5c7c3b149720"
      },
      "execution_count": 42,
      "outputs": [
        {
          "output_type": "stream",
          "name": "stdout",
          "text": [
            "[[0.68041382 1.30880211 1.30880211]]\n",
            "[[2 1 3]]\n"
          ]
        }
      ]
    },
    {
      "cell_type": "code",
      "source": [
        "#회귀\n",
        "from sklearn.neighbors import KNeighborsRegressor\n",
        "from sklearn.preprocessing import StandardScaler\n",
        "import numpy as np\n",
        "import matplotlib.pyplot as plt "
      ],
      "metadata": {
        "id": "cWdlmtqCKYKZ"
      },
      "execution_count": 43,
      "outputs": []
    },
    {
      "cell_type": "code",
      "source": [
        " X_train = np.array([[10, 8],\n",
        "           [20, 4],\n",
        "           [20, 6],\n",
        "           [40, 4],\n",
        "           [50, 8]])\n",
        "y_train = np.array([[100], [60], [50], [40], [100]])"
      ],
      "metadata": {
        "id": "ebpQunzXKbIl"
      },
      "execution_count": 44,
      "outputs": []
    },
    {
      "cell_type": "code",
      "source": [
        " X_test = np.array([[30, 6]])"
      ],
      "metadata": {
        "id": "ZGBQZDj1KcvJ"
      },
      "execution_count": 45,
      "outputs": []
    },
    {
      "cell_type": "code",
      "source": [
        "plt.scatter(X_train[:, 0], X_train[:, 1], c=y_train) \n",
        "plt.scatter(X_test[:, 0], X_test[:, 1], c='red', marker = 'D', s=100)\n",
        "plt.xlabel('x1')\n",
        "plt.ylabel('x2')\n",
        "plt.show() "
      ],
      "metadata": {
        "colab": {
          "base_uri": "https://localhost:8080/",
          "height": 449
        },
        "id": "WcJUCZKUKeOp",
        "outputId": "0c26642f-00fa-42ab-adf5-2f0c4180ad47"
      },
      "execution_count": 46,
      "outputs": [
        {
          "output_type": "display_data",
          "data": {
            "text/plain": [
              "<Figure size 640x480 with 1 Axes>"
            ],
            "image/png": "[encoded data removed]"
          },
          "metadata": {}
        }
      ]
    },
    {
      "cell_type": "code",
      "source": [
        "scalerX = StandardScaler()\n",
        "scalerX.fit(X_train)\n",
        "X_train_std = scalerX.transform(X_train)\n",
        "print(X_train_std)\n",
        "scalerY = StandardScaler()\n",
        "scalerY.fit(y_train)\n",
        "y_train_std = scalerY.transform(y_train)\n",
        "print(y_train_std)"
      ],
      "metadata": {
        "colab": {
          "base_uri": "https://localhost:8080/"
        },
        "id": "hIxQGoogKfox",
        "outputId": "d1000d30-a8bf-4d91-d71b-2846a0be4531"
      },
      "execution_count": 47,
      "outputs": [
        {
          "output_type": "stream",
          "name": "stdout",
          "text": [
            "[[-1.22474487  1.11803399]\n",
            " [-0.54433105 -1.11803399]\n",
            " [-0.54433105  0.        ]\n",
            " [ 0.81649658 -1.11803399]\n",
            " [ 1.4969104   1.11803399]]\n",
            "[[ 1.18585412]\n",
            " [-0.39528471]\n",
            " [-0.79056942]\n",
            " [-1.18585412]\n",
            " [ 1.18585412]]\n"
          ]
        }
      ]
    },
    {
      "cell_type": "code",
      "source": [
        "X_test_std = scalerX.transform(X_test)\n",
        "print(X_test_std)"
      ],
      "metadata": {
        "colab": {
          "base_uri": "https://localhost:8080/"
        },
        "id": "IRHhtvnxKhh9",
        "outputId": "ea4adb1d-d3b5-4b1a-ca8d-e1bb03a89d95"
      },
      "execution_count": 48,
      "outputs": [
        {
          "output_type": "stream",
          "name": "stdout",
          "text": [
            "[[0.13608276 0.        ]]\n"
          ]
        }
      ]
    },
    {
      "cell_type": "code",
      "source": [
        "knn = KNeighborsRegressor(n_neighbors = 3, metric='euclidean', weights=\"uniform\")\n",
        "knn.fit(X_train_std, y_train_std)"
      ],
      "metadata": {
        "colab": {
          "base_uri": "https://localhost:8080/",
          "height": 74
        },
        "id": "Tytgg_7TKkd-",
        "outputId": "d8495542-bd58-423b-d4ff-52996bb59f6a"
      },
      "execution_count": 49,
      "outputs": [
        {
          "output_type": "execute_result",
          "data": {
            "text/plain": [
              "KNeighborsRegressor(metric='euclidean', n_neighbors=3)"
            ],
            "text/html": [
              "<style>#sk-container-id-2 {color: black;background-color: white;}#sk-container-id-2 pre{padding: 0;}#sk-container-id-2 div.sk-toggleable {background-color: white;}#sk-container-id-2 label.sk-toggleable__label {cursor: pointer;display: block;width: 100%;margin-bottom: 0;padding: 0.3em;box-sizing: border-box;text-align: center;}#sk-container-id-2 label.sk-toggleable__label-arrow:before {content: \"▸\";float: left;margin-right: 0.25em;color: #696969;}#sk-container-id-2 label.sk-toggleable__label-arrow:hover:before {color: black;}#sk-container-id-2 div.sk-estimator:hover label.sk-toggleable__label-arrow:before {color: black;}#sk-container-id-2 div.sk-toggleable__content {max-height: 0;max-width: 0;overflow: hidden;text-align: left;background-color: #f0f8ff;}#sk-container-id-2 div.sk-toggleable__content pre {margin: 0.2em;color: black;border-radius: 0.25em;background-color: #f0f8ff;}#sk-container-id-2 input.sk-toggleable__control:checked~div.sk-toggleable__content {max-height: 200px;max-width: 100%;overflow: auto;}#sk-container-id-2 input.sk-toggleable__control:checked~label.sk-toggleable__label-arrow:before {content: \"▾\";}#sk-container-id-2 div.sk-estimator input.sk-toggleable__control:checked~label.sk-toggleable__label {background-color: #d4ebff;}#sk-container-id-2 div.sk-label input.sk-toggleable__control:checked~label.sk-toggleable__label {background-color: #d4ebff;}#sk-container-id-2 input.sk-hidden--visually {border: 0;clip: rect(1px 1px 1px 1px);clip: rect(1px, 1px, 1px, 1px);height: 1px;margin: -1px;overflow: hidden;padding: 0;position: absolute;width: 1px;}#sk-container-id-2 div.sk-estimator {font-family: monospace;background-color: #f0f8ff;border: 1px dotted black;border-radius: 0.25em;box-sizing: border-box;margin-bottom: 0.5em;}#sk-container-id-2 div.sk-estimator:hover {background-color: #d4ebff;}#sk-container-id-2 div.sk-parallel-item::after {content: \"\";width: 100%;border-bottom: 1px solid gray;flex-grow: 1;}#sk-container-id-2 div.sk-label:hover label.sk-toggleable__label {background-color: #d4ebff;}#sk-container-id-2 div.sk-serial::before {content: \"\";position: absolute;border-left: 1px solid gray;box-sizing: border-box;top: 0;bottom: 0;left: 50%;z-index: 0;}#sk-container-id-2 div.sk-serial {display: flex;flex-direction: column;align-items: center;background-color: white;padding-right: 0.2em;padding-left: 0.2em;position: relative;}#sk-container-id-2 div.sk-item {position: relative;z-index: 1;}#sk-container-id-2 div.sk-parallel {display: flex;align-items: stretch;justify-content: center;background-color: white;position: relative;}#sk-container-id-2 div.sk-item::before, #sk-container-id-2 div.sk-parallel-item::before {content: \"\";position: absolute;border-left: 1px solid gray;box-sizing: border-box;top: 0;bottom: 0;left: 50%;z-index: -1;}#sk-container-id-2 div.sk-parallel-item {display: flex;flex-direction: column;z-index: 1;position: relative;background-color: white;}#sk-container-id-2 div.sk-parallel-item:first-child::after {align-self: flex-end;width: 50%;}#sk-container-id-2 div.sk-parallel-item:last-child::after {align-self: flex-start;width: 50%;}#sk-container-id-2 div.sk-parallel-item:only-child::after {width: 0;}#sk-container-id-2 div.sk-dashed-wrapped {border: 1px dashed gray;margin: 0 0.4em 0.5em 0.4em;box-sizing: border-box;padding-bottom: 0.4em;background-color: white;}#sk-container-id-2 div.sk-label label {font-family: monospace;font-weight: bold;display: inline-block;line-height: 1.2em;}#sk-container-id-2 div.sk-label-container {text-align: center;}#sk-container-id-2 div.sk-container {/* jupyter's `normalize.less` sets `[hidden] { display: none; }` but bootstrap.min.css set `[hidden] { display: none !important; }` so we also need the `!important` here to be able to override the default hidden behavior on the sphinx rendered scikit-learn.org. See: https://github.com/scikit-learn/scikit-learn/issues/21755 */display: inline-block !important;position: relative;}#sk-container-id-2 div.sk-text-repr-fallback {display: none;}</style><div id=\"sk-container-id-2\" class=\"sk-top-container\"><div class=\"sk-text-repr-fallback\"><pre>KNeighborsRegressor(metric=&#x27;euclidean&#x27;, n_neighbors=3)</pre><b>In a Jupyter environment, please rerun this cell to show the HTML representation or trust the notebook. <br />On GitHub, the HTML representation is unable to render, please try loading this page with nbviewer.org.</b></div><div class=\"sk-container\" hidden><div class=\"sk-item\"><div class=\"sk-estimator sk-toggleable\"><input class=\"sk-toggleable__control sk-hidden--visually\" id=\"sk-estimator-id-2\" type=\"checkbox\" checked><label for=\"sk-estimator-id-2\" class=\"sk-toggleable__label sk-toggleable__label-arrow\">KNeighborsRegressor</label><div class=\"sk-toggleable__content\"><pre>KNeighborsRegressor(metric=&#x27;euclidean&#x27;, n_neighbors=3)</pre></div></div></div></div></div>"
            ]
          },
          "metadata": {},
          "execution_count": 49
        }
      ]
    },
    {
      "cell_type": "code",
      "source": [
        "y_pred = knn.predict(X_test_std)\n",
        "print(y_pred)"
      ],
      "metadata": {
        "colab": {
          "base_uri": "https://localhost:8080/"
        },
        "id": "yTTatB_QKl4a",
        "outputId": "801f438f-4f5a-48fb-d3ad-f445b731fe5b"
      },
      "execution_count": 50,
      "outputs": [
        {
          "output_type": "stream",
          "name": "stdout",
          "text": [
            "[[-0.79056942]]\n"
          ]
        }
      ]
    },
    {
      "cell_type": "code",
      "source": [
        "y_pred_inverse = scalerY.inverse_transform(y_pred)\n",
        "print(y_pred_inverse)"
      ],
      "metadata": {
        "colab": {
          "base_uri": "https://localhost:8080/"
        },
        "id": "LqMipEPvKori",
        "outputId": "cc78a71a-24dc-4c9d-e29e-a868c89887be"
      },
      "execution_count": 51,
      "outputs": [
        {
          "output_type": "stream",
          "name": "stdout",
          "text": [
            "[[50.]]\n"
          ]
        }
      ]
    },
    {
      "cell_type": "code",
      "source": [],
      "metadata": {
        "id": "2lRAUWCFLlrD"
      },
      "execution_count": 51,
      "outputs": []
    }
  ]
}